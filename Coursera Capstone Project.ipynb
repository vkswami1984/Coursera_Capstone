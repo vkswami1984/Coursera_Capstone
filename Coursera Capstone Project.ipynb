{
    "cells": [
        {
            "cell_type": "markdown",
            "metadata": {
                "collapsed": true
            },
            "source": "Hi there. This notebook will be used primarily for the capstone project on Coursera's Data Science and Machine Learning Course."
        },
        {
            "cell_type": "code",
            "execution_count": 1,
            "metadata": {},
            "outputs": [],
            "source": "import pandas as pd\nimport numpy as np"
        },
        {
            "cell_type": "code",
            "execution_count": 4,
            "metadata": {},
            "outputs": [
                {
                    "name": "stdout",
                    "output_type": "stream",
                    "text": "Hello Capstone Project Course!\n"
                }
            ],
            "source": "print (\"Hello Capstone Project Course!\")"
        },
        {
            "cell_type": "markdown",
            "metadata": {},
            "source": "Introduction:\nYou are a real estate agent in the city of Montreal, and resources are stretched. You have many enquiries coming in, and not enough time to handle them all efficiently. There are young adults looking for their first apartment, middle aged couples with children in school, and even the occasional retiree who just wants to relax and pass the rest of their days in a peaceful neighbourhood. But time is money, and it\u2019s very limited right now. \n\nWhat you need is a way to efficiently cluster the neighbourhoods in Montreal, so that you can recommend specific locations based on your clients\u2019 profiles, instead of going on a wild goose chase around the city. Further, by clustering an existing dataset of client profiles, every new client can be assigned a cluster based on their profile, simplifying your task further.\n\nWhat we will aim to achieve with this project is to:\n1)\tCluster the neighbourhoods in Montreal based on the facilities and amenities available in each location. \n2)\tCluster an existing client database to fit multiple profiles\n3)\tAssign client profiles to neighbourhood clusters based on assumptions regarding popular activities\n\n\nData:\nThe relevant data for this project will be as follows:\n\n1.\tFoursquare location data for Montreal \u2013 using the Foursquare API\nThis data will help provide a list of points of interest across multiple locations within the greater Montreal metropolitan area.\n\n2.\tList of postal codes in Montreal \u2013 available at the link:\nhttps://en.wikipedia.org/wiki/List_of_postal_codes_of_Canada:_H\n\nWe will need to retrieve coordinate data for each neighbourhood using the postal codes available at this address, in order to facilitate accurate use of the Foursquare API.\n\n3.\tA pre-existing database of customer profiles from the course, available at the link:\nhttps://cf-courses-data.s3.us.cloud-object-storage.appdomain.cloud/IBMDeveloperSkillsNetwork-ML0101EN-SkillsNetwork/labs/Module%204/data/Cust_Segmentation.csv\n\nThis data contains details such as age, income and education levels, all of which may be relevant to client clustering.\n"
        },
        {
            "cell_type": "code",
            "execution_count": null,
            "metadata": {},
            "outputs": [],
            "source": ""
        }
    ],
    "metadata": {
        "kernelspec": {
            "display_name": "Python 3.7",
            "language": "python",
            "name": "python3"
        },
        "language_info": {
            "codemirror_mode": {
                "name": "ipython",
                "version": 3
            },
            "file_extension": ".py",
            "mimetype": "text/x-python",
            "name": "python",
            "nbconvert_exporter": "python",
            "pygments_lexer": "ipython3",
            "version": "3.7.10"
        }
    },
    "nbformat": 4,
    "nbformat_minor": 1
}